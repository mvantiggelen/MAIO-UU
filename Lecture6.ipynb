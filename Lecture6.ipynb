{
 "cells": [
  {
   "cell_type": "markdown",
   "metadata": {},
   "source": [
    "1. Open the data from your own stations in the Botanical gardens\n"
   ]
  },
  {
   "cell_type": "code",
   "execution_count": null,
   "metadata": {},
   "outputs": [],
   "source": [
    "import os\n",
    "import glob as glob\n",
    "\n",
    "# go to folder with raw data from MAIO setup\n",
    "base_dir = os.getcwd()\n",
    "L0_folder = base_dir + \"/Data/UU_BotanicalGardens/\"\n",
    "os.chdir(L0_folder)\n",
    "# List all the data files\n",
    "files = glob.glob('*txt')\n",
    "print(files)\n",
    "\n",
    "# open AWS file"
   ]
  },
  {
   "cell_type": "code",
   "execution_count": null,
   "metadata": {},
   "outputs": [],
   "source": []
  }
 ],
 "metadata": {
  "language_info": {
   "name": "python"
  },
  "orig_nbformat": 4
 },
 "nbformat": 4,
 "nbformat_minor": 2
}
